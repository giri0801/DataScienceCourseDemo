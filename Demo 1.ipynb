{
 "cells": [
  {
   "cell_type": "code",
   "execution_count": 4,
   "id": "077bf4b7",
   "metadata": {},
   "outputs": [
    {
     "name": "stdout",
     "output_type": "stream",
     "text": [
      "hello world\n",
      "ffff\n"
     ]
    }
   ],
   "source": [
    "print(\"hello world\") \n",
    "print(\"ffff\")"
   ]
  },
  {
   "cell_type": "code",
   "execution_count": null,
   "id": "2181cf80",
   "metadata": {},
   "outputs": [],
   "source": [
    "ffdfdfdf\n",
    "fdfdfdf\n",
    "fdfdfdf"
   ]
  }
 ],
 "metadata": {
  "kernelspec": {
   "display_name": "Python 3 (ipykernel)",
   "language": "python",
   "name": "python3"
  },
  "language_info": {
   "codemirror_mode": {
    "name": "ipython",
    "version": 3
   },
   "file_extension": ".py",
   "mimetype": "text/x-python",
   "name": "python",
   "nbconvert_exporter": "python",
   "pygments_lexer": "ipython3",
   "version": "3.9.7"
  }
 },
 "nbformat": 4,
 "nbformat_minor": 5
}
