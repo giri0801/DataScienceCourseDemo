{
 "cells": [
  {
   "cell_type": "code",
   "execution_count": 3,
   "id": "9ff61e71",
   "metadata": {},
   "outputs": [
    {
     "name": "stdout",
     "output_type": "stream",
     "text": [
      "enter your gendermale\n",
      "enter your birth year1999\n",
      "do you smokeno\n",
      "Final price after discounted Price 31500.0\n"
     ]
    }
   ],
   "source": [
    "gender= input(\"enter your gender\")\n",
    "dob= int(input(\"enter your birth year\"))\n",
    "smoker = input(\"do you smoke\")\n",
    "if(gender.upper() == 'MALE'):\n",
    "    if(1990<dob<2000):\n",
    "        if(smoker == 'yes'):\n",
    "            print(\"your premium is 35000\")\n",
    "        else:\n",
    "            discount =35000*10/100\n",
    "            finalP = 35000-discount\n",
    "            print(\"Final price after discounted Price\",finalP)\n",
    "    if(1970<dob<1990):\n",
    "        if(smoker == 'yes'):\n",
    "            print(\"your premium is 40000\")\n",
    "        else:\n",
    "            discount =40000*5/100\n",
    "            finalP = 40000-discount\n",
    "            print(\"Final price after discounted Price\",finalP)\n",
    "if(gender.upper() == 'FEMALE'):\n",
    "    if(1990<dob<2000):\n",
    "        if(smoker == 'yes'):\n",
    "            print(\"your premium is 30000\")\n",
    "        else:\n",
    "            discount =30000*10/100\n",
    "            finalP = 30000-discount\n",
    "            print(\"Final price after discounted Price\",finalP)\n",
    "    if(1970<dob<1990):\n",
    "        if(smoker == 'yes'):\n",
    "            print(\"your premium is 35000\")\n",
    "        else:\n",
    "            discount =35000*5/100\n",
    "            finalP = 35000-discount\n",
    "            print(\"Final price after discounted Price\",finalP)"
   ]
  },
  {
   "cell_type": "code",
   "execution_count": null,
   "id": "691ff18e",
   "metadata": {},
   "outputs": [],
   "source": []
  }
 ],
 "metadata": {
  "kernelspec": {
   "display_name": "Python 3 (ipykernel)",
   "language": "python",
   "name": "python3"
  },
  "language_info": {
   "codemirror_mode": {
    "name": "ipython",
    "version": 3
   },
   "file_extension": ".py",
   "mimetype": "text/x-python",
   "name": "python",
   "nbconvert_exporter": "python",
   "pygments_lexer": "ipython3",
   "version": "3.9.7"
  }
 },
 "nbformat": 4,
 "nbformat_minor": 5
}
